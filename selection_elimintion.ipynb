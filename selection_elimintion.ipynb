{
  "nbformat": 4,
  "nbformat_minor": 0,
  "metadata": {
    "colab": {
      "name": "preprocessing.ipynb",
      "provenance": [],
      "collapsed_sections": []
    },
    "kernelspec": {
      "name": "python3",
      "display_name": "Python 3"
    }
  },
  "cells": [
    {
      "cell_type": "code",
      "metadata": {
        "id": "whxkf6hqejv0"
      },
      "source": [
        "import pandas as pd\n",
        "from sklearn.neighbors import KNeighborsClassifier\n",
        "from sklearn.metrics import accuracy_score"
      ],
      "execution_count": null,
      "outputs": []
    },
    {
      "cell_type": "code",
      "metadata": {
        "id": "vKJLpGAEfiYU",
        "outputId": "9492101b-58e8-4922-b9d7-f0d6dd6c007b",
        "colab": {
          "base_uri": "https://localhost:8080/",
          "height": 85
        }
      },
      "source": [
        "X_train=pd.read_csv('X_train.csv')\n",
        "Y_train=pd.read_csv('Y_train.csv')\n",
        "X_test=pd.read_csv('X_test.csv')\n",
        "Y_test=pd.read_csv('Y_test.csv')\n",
        "Y_train_bin=pd.read_csv('Y_train_bin.csv')\n",
        "print(\"\\nShape of train set:\", X_train.shape, Y_train.shape)\n",
        "print(\"\\nShape of test set:\", X_test.shape, Y_test.shape)"
      ],
      "execution_count": null,
      "outputs": [
        {
          "output_type": "stream",
          "text": [
            "\n",
            "Shape of train set: (384, 12) (384, 1)\n",
            "\n",
            "Shape of test set: (96, 12) (96, 1)\n"
          ],
          "name": "stdout"
        }
      ]
    },
    {
      "cell_type": "code",
      "metadata": {
        "id": "SkcAVgZffpuw",
        "outputId": "5838e3d7-26eb-4024-c0f2-3e9966b4d60e",
        "colab": {
          "base_uri": "https://localhost:8080/",
          "height": 153
        }
      },
      "source": [
        "print (X_train.head())"
      ],
      "execution_count": null,
      "outputs": [
        {
          "output_type": "stream",
          "text": [
            "    Loan_ID Gender Married  ... Loan_Amount_Term Credit_History Property_Area\n",
            "0  LP001032   Male      No  ...              360              1         Urban\n",
            "1  LP001824   Male     Yes  ...              480              1     Semiurban\n",
            "2  LP002928   Male     Yes  ...              180              1     Semiurban\n",
            "3  LP001814   Male     Yes  ...              360              1         Urban\n",
            "4  LP002244   Male     Yes  ...              360              1         Urban\n",
            "\n",
            "[5 rows x 12 columns]\n"
          ],
          "name": "stdout"
        }
      ]
    },
    {
      "cell_type": "code",
      "metadata": {
        "id": "XDKG-1BtfsYf",
        "outputId": "109e16b9-d2ab-41f6-ad5f-a12ad748edaa",
        "colab": {
          "base_uri": "https://localhost:8080/",
          "height": 781
        }
      },
      "source": [
        "import matplotlib.pyplot as plt\n",
        "\n",
        "X_train[X_train.dtypes[(X_train.dtypes==\"float64\")|(X_train.dtypes==\"int64\")]\n",
        "                        .index.values].hist(figsize=[11,11])"
      ],
      "execution_count": null,
      "outputs": [
        {
          "output_type": "execute_result",
          "data": {
            "text/plain": [
              "array([[<matplotlib.axes._subplots.AxesSubplot object at 0x7fa39d3962e8>,\n",
              "        <matplotlib.axes._subplots.AxesSubplot object at 0x7fa39d2ee5c0>],\n",
              "       [<matplotlib.axes._subplots.AxesSubplot object at 0x7fa39d323828>,\n",
              "        <matplotlib.axes._subplots.AxesSubplot object at 0x7fa39d2d5a90>],\n",
              "       [<matplotlib.axes._subplots.AxesSubplot object at 0x7fa39d334ac8>,\n",
              "        <matplotlib.axes._subplots.AxesSubplot object at 0x7fa39d2414e0>]],\n",
              "      dtype=object)"
            ]
          },
          "metadata": {
            "tags": []
          },
          "execution_count": 4
        },
        {
          "output_type": "display_data",
          "data": {
            "image/png": "[encoded data removed]",
            "text/plain": [
              "<Figure size 792x792 with 6 Axes>"
            ]
          },
          "metadata": {
            "tags": [],
            "needs_background": "light"
          }
        }
      ]
    },
    {
      "cell_type": "markdown",
      "metadata": {
        "id": "SvrWx2ezinZI"
      },
      "source": [
        "**KNN before Standardizing**"
      ]
    },
    {
      "cell_type": "code",
      "metadata": {
        "id": "UySn9-odf3aS",
        "outputId": "5ae2dcb8-5424-4dee-b71c-21e796f07107",
        "colab": {
          "base_uri": "https://localhost:8080/",
          "height": 136
        }
      },
      "source": [
        "knn=KNeighborsClassifier(n_neighbors=5)\n",
        "knn.fit(X_train[['ApplicantIncome','CoapplicantIncome','LoanAmount','Loan_Amount_Term','Credit_History']],Y_train.values.ravel())\n",
        "\n",
        "print(\"\\nAccuracy score on test set :\", accuracy_score(Y_test,knn.predict(X_test[['ApplicantIncome','CoapplicantIncome','LoanAmount', 'Loan_Amount_Term','Credit_History']])))\n",
        "print(\"\\nDistribution of Loan_Status in train set :\")\n",
        "print(Y_train.Target.value_counts()/Y_train.Target.count())\n"
      ],
      "execution_count": null,
      "outputs": [
        {
          "output_type": "stream",
          "text": [
            "\n",
            "Accuracy score on test set : 0.6145833333333334\n",
            "\n",
            "Distribution of Loan_Status in train set :\n",
            "Y    0.705729\n",
            "N    0.294271\n",
            "Name: Target, dtype: float64\n"
          ],
          "name": "stdout"
        }
      ]
    },
    {
      "cell_type": "markdown",
      "metadata": {
        "id": "jno4YnUWifkL"
      },
      "source": [
        "**Standardizing data**"
      ]
    },
    {
      "cell_type": "code",
      "metadata": {
        "id": "fHRyQPNFgpg1"
      },
      "source": [
        "from sklearn.preprocessing import scale\n",
        "X_train_scale=scale(X_train[['ApplicantIncome', 'CoapplicantIncome','LoanAmount', 'Loan_Amount_Term', 'Credit_History']])\n",
        "X_test_scale=scale(X_test[['ApplicantIncome', 'CoapplicantIncome','LoanAmount', 'Loan_Amount_Term', 'Credit_History']])\n",
        "\n",
        "X_train_selection=scale(X_train[['ApplicantIncome', 'CoapplicantIncome']])\n",
        "X_test_selection=scale(X_test[['ApplicantIncome', 'CoapplicantIncome']])\n",
        "\n"
      ],
      "execution_count": null,
      "outputs": []
    },
    {
      "cell_type": "markdown",
      "metadata": {
        "id": "JsveDyGviv9z"
      },
      "source": [
        "**After** **Standardizing**"
      ]
    },
    {
      "cell_type": "code",
      "metadata": {
        "id": "Ai4knMVghMd4",
        "outputId": "587ffabc-539c-444b-8cda-26f808305360",
        "colab": {
          "base_uri": "https://localhost:8080/",
          "height": 136
        }
      },
      "source": [
        "knn_after_std=KNeighborsClassifier(n_neighbors=5)\n",
        "knn_after_std.fit(X_train_scale,Y_train.values.ravel())\n",
        "print(\"\\nAccuracy score on test set :\", accuracy_score(Y_test,knn_after_std.predict(X_test_scale)))\n",
        "print(\"\\nDistribution of Loan_Status in train set :\")\n",
        "print(Y_train.Target.value_counts()/Y_train.Target.count())"
      ],
      "execution_count": null,
      "outputs": [
        {
          "output_type": "stream",
          "text": [
            "\n",
            "Accuracy score on test set : 0.71875\n",
            "\n",
            "Distribution of Loan_Status in train set :\n",
            "Y    0.705729\n",
            "N    0.294271\n",
            "Name: Target, dtype: float64\n"
          ],
          "name": "stdout"
        }
      ]
    },
    {
      "cell_type": "markdown",
      "metadata": {
        "id": "WxPTs1_co-t5"
      },
      "source": [
        "**Label Encoding**"
      ]
    },
    {
      "cell_type": "code",
      "metadata": {
        "id": "ODfCdMRRo9rb"
      },
      "source": [
        "# Importing LabelEncoder and initializing it\n",
        "from sklearn.preprocessing import LabelEncoder\n",
        "le=LabelEncoder()\n",
        "\n",
        "for col in X_test.columns.values:\n",
        "       if X_test[col].dtypes=='object':\n",
        "        data=X_train[col].append(X_test[col])\n",
        "        le.fit(data.values)\n",
        "        X_train[col]=le.transform(X_train[col])\n",
        "        X_test[col]=le.transform(X_test[col])"
      ],
      "execution_count": null,
      "outputs": []
    },
    {
      "cell_type": "code",
      "metadata": {
        "id": "BUiCz_o1hXKj"
      },
      "source": [
        "X_train_scale=scale(X_train)\n",
        "X_test_scale=scale(X_test)"
      ],
      "execution_count": null,
      "outputs": []
    },
    {
      "cell_type": "code",
      "metadata": {
        "id": "fT41KBiMqE3u"
      },
      "source": [
        ""
      ],
      "execution_count": null,
      "outputs": []
    },
    {
      "cell_type": "markdown",
      "metadata": {
        "id": "biQ60mFWptHo"
      },
      "source": [
        "**After Encoding**"
      ]
    },
    {
      "cell_type": "code",
      "metadata": {
        "id": "s0oHF4eQoJDe",
        "outputId": "65ac0213-0bfd-421f-8125-e94601412a73",
        "colab": {
          "base_uri": "https://localhost:8080/",
          "height": 88
        }
      },
      "source": [
        "from sklearn.linear_model import LogisticRegression\n",
        "log=LogisticRegression(penalty='l2',C=1)\n",
        "log.fit(X_train_scale,Y_train)\n",
        "\n",
        "accuracy_score(Y_test,log.predict(X_test_scale))"
      ],
      "execution_count": null,
      "outputs": [
        {
          "output_type": "stream",
          "text": [
            "/usr/local/lib/python3.6/dist-packages/sklearn/utils/validation.py:760: DataConversionWarning: A column-vector y was passed when a 1d array was expected. Please change the shape of y to (n_samples, ), for example using ravel().\n",
            "  y = column_or_1d(y, warn=True)\n"
          ],
          "name": "stderr"
        },
        {
          "output_type": "execute_result",
          "data": {
            "text/plain": [
              "0.7395833333333334"
            ]
          },
          "metadata": {
            "tags": []
          },
          "execution_count": 24
        }
      ]
    },
    {
      "cell_type": "code",
      "metadata": {
        "id": "c5a-uAhGodzX"
      },
      "source": [
        ""
      ],
      "execution_count": null,
      "outputs": []
    },
    {
      "cell_type": "code",
      "metadata": {
        "id": "Y2c47NIwNRH1",
        "outputId": "a19a180f-9f0d-4289-feb6-6f77e2a54ec1",
        "colab": {
          "base_uri": "https://localhost:8080/",
          "height": 255
        }
      },
      "source": [
        "print(X_train)"
      ],
      "execution_count": null,
      "outputs": [
        {
          "output_type": "stream",
          "text": [
            "     Loan_ID  Gender  Married  ...  Loan_Amount_Term  Credit_History  Property_Area\n",
            "0         13       1        0  ...               360               1              2\n",
            "1        193       1        1  ...               480               1              1\n",
            "2        461       1        1  ...               180               1              1\n",
            "3        191       1        1  ...               360               1              2\n",
            "4        300       1        1  ...               360               1              2\n",
            "..       ...     ...      ...  ...               ...             ...            ...\n",
            "379      385       1        1  ...               360               0              0\n",
            "380      197       1        0  ...               360               1              0\n",
            "381      439       1        1  ...               360               1              0\n",
            "382      174       1        0  ...               360               1              1\n",
            "383      122       1        1  ...               360               1              1\n",
            "\n",
            "[384 rows x 12 columns]\n"
          ],
          "name": "stdout"
        }
      ]
    },
    {
      "cell_type": "code",
      "metadata": {
        "id": "_X5fVUVdLPH6",
        "outputId": "6a4ac3fe-2225-48dd-80cf-48fa696c11ad",
        "colab": {
          "base_uri": "https://localhost:8080/",
          "height": 136
        }
      },
      "source": [
        ""
      ],
      "execution_count": null,
      "outputs": [
        {
          "output_type": "stream",
          "text": [
            "[[ 13.   1.   0. ... 360.   1.   2.]\n",
            " [193.   1.   1. ... 480.   1.   1.]\n",
            " [461.   1.   1. ... 180.   1.   1.]\n",
            " ...\n",
            " [439.   1.   1. ... 360.   1.   0.]\n",
            " [174.   1.   0. ... 360.   1.   1.]\n",
            " [122.   1.   1. ... 360.   1.   1.]]\n"
          ],
          "name": "stdout"
        }
      ]
    },
    {
      "cell_type": "code",
      "metadata": {
        "id": "q8YxBwg1Ll5S"
      },
      "source": [
        "from sklearn.feature_selection import SelectKBest\n",
        "from sklearn.feature_selection import chi2\n",
        "import numpy as np\n",
        "array = X_train.values\n",
        "X = array[:]\n",
        "array2 = Y_train_bin.values\n",
        "Y = array2[:]\n"
      ],
      "execution_count": null,
      "outputs": []
    },
    {
      "cell_type": "code",
      "metadata": {
        "id": "QempiRCONYod",
        "outputId": "0cece2e6-5f5f-41fe-c3a3-d6a91e19c28d",
        "colab": {
          "base_uri": "https://localhost:8080/",
          "height": 136
        }
      },
      "source": [
        "test = SelectKBest(score_func=chi2, k=4)\n",
        "fit = test.fit(X, Y)\n",
        "\n",
        "# Summarize scores\n",
        "np.set_printoptions(precision=3)\n",
        "print(fit.scores_)\n",
        "\n",
        "features = fit.transform(X)\n",
        "# Summarize selected features\n",
        "print(features[0:5,:])"
      ],
      "execution_count": null,
      "outputs": [
        {
          "output_type": "stream",
          "text": [
            "[1.310e+00 3.174e-01 1.414e+00 2.916e-01 4.400e-01 1.097e-01 5.360e+03\n",
            " 1.042e+04 5.826e+01 1.829e+00 1.674e+01 3.720e-01]\n",
            "[[4.950e+03 0.000e+00 1.250e+02 1.000e+00]\n",
            " [2.882e+03 1.843e+03 1.230e+02 1.000e+00]\n",
            " [3.000e+03 3.416e+03 5.600e+01 1.000e+00]\n",
            " [9.703e+03 0.000e+00 1.120e+02 1.000e+00]\n",
            " [2.333e+03 2.417e+03 1.360e+02 1.000e+00]]\n"
          ],
          "name": "stdout"
        }
      ]
    },
    {
      "cell_type": "code",
      "metadata": {
        "id": "ZjpY-KqVOlBy",
        "outputId": "5ea5a5da-9be8-41de-cb4c-c2a5059013f3",
        "colab": {
          "base_uri": "https://localhost:8080/",
          "height": 136
        }
      },
      "source": [
        "knn_after_sel=KNeighborsClassifier(n_neighbors=5)\n",
        "knn_after_sel.fit(X_train_selection,Y_train.values.ravel())\n",
        "print(\"\\nAccuracy score on test set :\", accuracy_score(Y_test,knn_after_sel.predict(X_test_selection)))\n",
        "print(\"\\nDistribution of Loan_Status in train set :\")\n",
        "print(Y_train.Target.value_counts()/Y_train.Target.count())"
      ],
      "execution_count": null,
      "outputs": [
        {
          "output_type": "stream",
          "text": [
            "\n",
            "Accuracy score on test set : 0.5729166666666666\n",
            "\n",
            "Distribution of Loan_Status in train set :\n",
            "Y    0.705729\n",
            "N    0.294271\n",
            "Name: Target, dtype: float64\n"
          ],
          "name": "stdout"
        }
      ]
    },
    {
      "cell_type": "code",
      "metadata": {
        "id": "NMEsTs9iQyeH"
      },
      "source": [
        ""
      ],
      "execution_count": null,
      "outputs": []
    }
  ]
}